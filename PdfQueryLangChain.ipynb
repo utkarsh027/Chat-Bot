{
  "nbformat": 4,
  "nbformat_minor": 0,
  "metadata": {
    "colab": {
      "provenance": [],
      "authorship_tag": "ABX9TyOaDOUGLAZNTey0uAtOg8Vg",
      "include_colab_link": true
    },
    "kernelspec": {
      "name": "python3",
      "display_name": "Python 3"
    },
    "language_info": {
      "name": "python"
    }
  },
  "cells": [
    {
      "cell_type": "markdown",
      "metadata": {
        "id": "view-in-github",
        "colab_type": "text"
      },
      "source": [
        "<a href=\"https://colab.research.google.com/github/utkarsh027/Chat-Bot/blob/main/PdfQueryLangChain.ipynb\" target=\"_parent\"><img src=\"https://colab.research.google.com/assets/colab-badge.svg\" alt=\"Open In Colab\"/></a>"
      ]
    },
    {
      "cell_type": "code",
      "execution_count": 1,
      "metadata": {
        "colab": {
          "base_uri": "https://localhost:8080/"
        },
        "id": "fcCJ_tRVXcOI",
        "outputId": "c0f67381-6ade-47e9-b19e-d9bfba545f47"
      },
      "outputs": [
        {
          "output_type": "stream",
          "name": "stdout",
          "text": [
            "Collecting langchain\n",
            "  Downloading langchain-0.1.5-py3-none-any.whl (806 kB)\n",
            "\u001b[2K     \u001b[90m━━━━━━━━━━━━━━━━━━━━━━━━━━━━━━━━━━━━━━━━\u001b[0m \u001b[32m806.7/806.7 kB\u001b[0m \u001b[31m7.4 MB/s\u001b[0m eta \u001b[36m0:00:00\u001b[0m\n",
            "\u001b[?25hRequirement already satisfied: PyYAML>=5.3 in /usr/local/lib/python3.10/dist-packages (from langchain) (6.0.1)\n",
            "Requirement already satisfied: SQLAlchemy<3,>=1.4 in /usr/local/lib/python3.10/dist-packages (from langchain) (2.0.24)\n",
            "Requirement already satisfied: aiohttp<4.0.0,>=3.8.3 in /usr/local/lib/python3.10/dist-packages (from langchain) (3.9.3)\n",
            "Requirement already satisfied: async-timeout<5.0.0,>=4.0.0 in /usr/local/lib/python3.10/dist-packages (from langchain) (4.0.3)\n",
            "Collecting dataclasses-json<0.7,>=0.5.7 (from langchain)\n",
            "  Downloading dataclasses_json-0.6.4-py3-none-any.whl (28 kB)\n",
            "Collecting jsonpatch<2.0,>=1.33 (from langchain)\n",
            "  Downloading jsonpatch-1.33-py2.py3-none-any.whl (12 kB)\n",
            "Collecting langchain-community<0.1,>=0.0.17 (from langchain)\n",
            "  Downloading langchain_community-0.0.17-py3-none-any.whl (1.6 MB)\n",
            "\u001b[2K     \u001b[90m━━━━━━━━━━━━━━━━━━━━━━━━━━━━━━━━━━━━━━━━\u001b[0m \u001b[32m1.6/1.6 MB\u001b[0m \u001b[31m12.6 MB/s\u001b[0m eta \u001b[36m0:00:00\u001b[0m\n",
            "\u001b[?25hCollecting langchain-core<0.2,>=0.1.16 (from langchain)\n",
            "  Downloading langchain_core-0.1.18-py3-none-any.whl (237 kB)\n",
            "\u001b[2K     \u001b[90m━━━━━━━━━━━━━━━━━━━━━━━━━━━━━━━━━━━━━━━━\u001b[0m \u001b[32m237.0/237.0 kB\u001b[0m \u001b[31m19.1 MB/s\u001b[0m eta \u001b[36m0:00:00\u001b[0m\n",
            "\u001b[?25hCollecting langsmith<0.1,>=0.0.83 (from langchain)\n",
            "  Downloading langsmith-0.0.86-py3-none-any.whl (54 kB)\n",
            "\u001b[2K     \u001b[90m━━━━━━━━━━━━━━━━━━━━━━━━━━━━━━━━━━━━━━━━\u001b[0m \u001b[32m54.4/54.4 kB\u001b[0m \u001b[31m4.8 MB/s\u001b[0m eta \u001b[36m0:00:00\u001b[0m\n",
            "\u001b[?25hRequirement already satisfied: numpy<2,>=1 in /usr/local/lib/python3.10/dist-packages (from langchain) (1.23.5)\n",
            "Requirement already satisfied: pydantic<3,>=1 in /usr/local/lib/python3.10/dist-packages (from langchain) (1.10.14)\n",
            "Requirement already satisfied: requests<3,>=2 in /usr/local/lib/python3.10/dist-packages (from langchain) (2.31.0)\n",
            "Requirement already satisfied: tenacity<9.0.0,>=8.1.0 in /usr/local/lib/python3.10/dist-packages (from langchain) (8.2.3)\n",
            "Requirement already satisfied: aiosignal>=1.1.2 in /usr/local/lib/python3.10/dist-packages (from aiohttp<4.0.0,>=3.8.3->langchain) (1.3.1)\n",
            "Requirement already satisfied: attrs>=17.3.0 in /usr/local/lib/python3.10/dist-packages (from aiohttp<4.0.0,>=3.8.3->langchain) (23.2.0)\n",
            "Requirement already satisfied: frozenlist>=1.1.1 in /usr/local/lib/python3.10/dist-packages (from aiohttp<4.0.0,>=3.8.3->langchain) (1.4.1)\n",
            "Requirement already satisfied: multidict<7.0,>=4.5 in /usr/local/lib/python3.10/dist-packages (from aiohttp<4.0.0,>=3.8.3->langchain) (6.0.4)\n",
            "Requirement already satisfied: yarl<2.0,>=1.0 in /usr/local/lib/python3.10/dist-packages (from aiohttp<4.0.0,>=3.8.3->langchain) (1.9.4)\n",
            "Collecting marshmallow<4.0.0,>=3.18.0 (from dataclasses-json<0.7,>=0.5.7->langchain)\n",
            "  Downloading marshmallow-3.20.2-py3-none-any.whl (49 kB)\n",
            "\u001b[2K     \u001b[90m━━━━━━━━━━━━━━━━━━━━━━━━━━━━━━━━━━━━━━━━\u001b[0m \u001b[32m49.4/49.4 kB\u001b[0m \u001b[31m5.9 MB/s\u001b[0m eta \u001b[36m0:00:00\u001b[0m\n",
            "\u001b[?25hCollecting typing-inspect<1,>=0.4.0 (from dataclasses-json<0.7,>=0.5.7->langchain)\n",
            "  Downloading typing_inspect-0.9.0-py3-none-any.whl (8.8 kB)\n",
            "Collecting jsonpointer>=1.9 (from jsonpatch<2.0,>=1.33->langchain)\n",
            "  Downloading jsonpointer-2.4-py2.py3-none-any.whl (7.8 kB)\n",
            "Requirement already satisfied: anyio<5,>=3 in /usr/local/lib/python3.10/dist-packages (from langchain-core<0.2,>=0.1.16->langchain) (3.7.1)\n",
            "Requirement already satisfied: packaging<24.0,>=23.2 in /usr/local/lib/python3.10/dist-packages (from langchain-core<0.2,>=0.1.16->langchain) (23.2)\n",
            "Requirement already satisfied: typing-extensions>=4.2.0 in /usr/local/lib/python3.10/dist-packages (from pydantic<3,>=1->langchain) (4.5.0)\n",
            "Requirement already satisfied: charset-normalizer<4,>=2 in /usr/local/lib/python3.10/dist-packages (from requests<3,>=2->langchain) (3.3.2)\n",
            "Requirement already satisfied: idna<4,>=2.5 in /usr/local/lib/python3.10/dist-packages (from requests<3,>=2->langchain) (3.6)\n",
            "Requirement already satisfied: urllib3<3,>=1.21.1 in /usr/local/lib/python3.10/dist-packages (from requests<3,>=2->langchain) (2.0.7)\n",
            "Requirement already satisfied: certifi>=2017.4.17 in /usr/local/lib/python3.10/dist-packages (from requests<3,>=2->langchain) (2023.11.17)\n",
            "Requirement already satisfied: greenlet!=0.4.17 in /usr/local/lib/python3.10/dist-packages (from SQLAlchemy<3,>=1.4->langchain) (3.0.3)\n",
            "Requirement already satisfied: sniffio>=1.1 in /usr/local/lib/python3.10/dist-packages (from anyio<5,>=3->langchain-core<0.2,>=0.1.16->langchain) (1.3.0)\n",
            "Requirement already satisfied: exceptiongroup in /usr/local/lib/python3.10/dist-packages (from anyio<5,>=3->langchain-core<0.2,>=0.1.16->langchain) (1.2.0)\n",
            "Collecting mypy-extensions>=0.3.0 (from typing-inspect<1,>=0.4.0->dataclasses-json<0.7,>=0.5.7->langchain)\n",
            "  Downloading mypy_extensions-1.0.0-py3-none-any.whl (4.7 kB)\n",
            "Installing collected packages: mypy-extensions, marshmallow, jsonpointer, typing-inspect, langsmith, jsonpatch, langchain-core, dataclasses-json, langchain-community, langchain\n",
            "Successfully installed dataclasses-json-0.6.4 jsonpatch-1.33 jsonpointer-2.4 langchain-0.1.5 langchain-community-0.0.17 langchain-core-0.1.18 langsmith-0.0.86 marshmallow-3.20.2 mypy-extensions-1.0.0 typing-inspect-0.9.0\n",
            "Collecting openai\n",
            "  Downloading openai-1.11.0-py3-none-any.whl (226 kB)\n",
            "\u001b[2K     \u001b[90m━━━━━━━━━━━━━━━━━━━━━━━━━━━━━━━━━━━━━━━━\u001b[0m \u001b[32m226.0/226.0 kB\u001b[0m \u001b[31m4.1 MB/s\u001b[0m eta \u001b[36m0:00:00\u001b[0m\n",
            "\u001b[?25hRequirement already satisfied: anyio<5,>=3.5.0 in /usr/local/lib/python3.10/dist-packages (from openai) (3.7.1)\n",
            "Requirement already satisfied: distro<2,>=1.7.0 in /usr/lib/python3/dist-packages (from openai) (1.7.0)\n",
            "Collecting httpx<1,>=0.23.0 (from openai)\n",
            "  Downloading httpx-0.26.0-py3-none-any.whl (75 kB)\n",
            "\u001b[2K     \u001b[90m━━━━━━━━━━━━━━━━━━━━━━━━━━━━━━━━━━━━━━━━\u001b[0m \u001b[32m75.9/75.9 kB\u001b[0m \u001b[31m5.3 MB/s\u001b[0m eta \u001b[36m0:00:00\u001b[0m\n",
            "\u001b[?25hRequirement already satisfied: pydantic<3,>=1.9.0 in /usr/local/lib/python3.10/dist-packages (from openai) (1.10.14)\n",
            "Requirement already satisfied: sniffio in /usr/local/lib/python3.10/dist-packages (from openai) (1.3.0)\n",
            "Requirement already satisfied: tqdm>4 in /usr/local/lib/python3.10/dist-packages (from openai) (4.66.1)\n",
            "Collecting typing-extensions<5,>=4.7 (from openai)\n",
            "  Downloading typing_extensions-4.9.0-py3-none-any.whl (32 kB)\n",
            "Requirement already satisfied: idna>=2.8 in /usr/local/lib/python3.10/dist-packages (from anyio<5,>=3.5.0->openai) (3.6)\n",
            "Requirement already satisfied: exceptiongroup in /usr/local/lib/python3.10/dist-packages (from anyio<5,>=3.5.0->openai) (1.2.0)\n",
            "Requirement already satisfied: certifi in /usr/local/lib/python3.10/dist-packages (from httpx<1,>=0.23.0->openai) (2023.11.17)\n",
            "Collecting httpcore==1.* (from httpx<1,>=0.23.0->openai)\n",
            "  Downloading httpcore-1.0.2-py3-none-any.whl (76 kB)\n",
            "\u001b[2K     \u001b[90m━━━━━━━━━━━━━━━━━━━━━━━━━━━━━━━━━━━━━━━━\u001b[0m \u001b[32m76.9/76.9 kB\u001b[0m \u001b[31m8.9 MB/s\u001b[0m eta \u001b[36m0:00:00\u001b[0m\n",
            "\u001b[?25hCollecting h11<0.15,>=0.13 (from httpcore==1.*->httpx<1,>=0.23.0->openai)\n",
            "  Downloading h11-0.14.0-py3-none-any.whl (58 kB)\n",
            "\u001b[2K     \u001b[90m━━━━━━━━━━━━━━━━━━━━━━━━━━━━━━━━━━━━━━━━\u001b[0m \u001b[32m58.3/58.3 kB\u001b[0m \u001b[31m6.2 MB/s\u001b[0m eta \u001b[36m0:00:00\u001b[0m\n",
            "\u001b[?25hInstalling collected packages: typing-extensions, h11, httpcore, httpx, openai\n",
            "  Attempting uninstall: typing-extensions\n",
            "    Found existing installation: typing_extensions 4.5.0\n",
            "    Uninstalling typing_extensions-4.5.0:\n",
            "      Successfully uninstalled typing_extensions-4.5.0\n",
            "\u001b[31mERROR: pip's dependency resolver does not currently take into account all the packages that are installed. This behaviour is the source of the following dependency conflicts.\n",
            "llmx 0.0.15a0 requires cohere, which is not installed.\n",
            "llmx 0.0.15a0 requires tiktoken, which is not installed.\n",
            "tensorflow-probability 0.22.0 requires typing-extensions<4.6.0, but you have typing-extensions 4.9.0 which is incompatible.\u001b[0m\u001b[31m\n",
            "\u001b[0mSuccessfully installed h11-0.14.0 httpcore-1.0.2 httpx-0.26.0 openai-1.11.0 typing-extensions-4.9.0\n",
            "Collecting PyPDF2\n",
            "  Downloading pypdf2-3.0.1-py3-none-any.whl (232 kB)\n",
            "\u001b[2K     \u001b[90m━━━━━━━━━━━━━━━━━━━━━━━━━━━━━━━━━━━━━━━━\u001b[0m \u001b[32m232.6/232.6 kB\u001b[0m \u001b[31m5.0 MB/s\u001b[0m eta \u001b[36m0:00:00\u001b[0m\n",
            "\u001b[?25hInstalling collected packages: PyPDF2\n",
            "Successfully installed PyPDF2-3.0.1\n",
            "Collecting faiss-cpu\n",
            "  Downloading faiss_cpu-1.7.4-cp310-cp310-manylinux_2_17_x86_64.manylinux2014_x86_64.whl (17.6 MB)\n",
            "\u001b[2K     \u001b[90m━━━━━━━━━━━━━━━━━━━━━━━━━━━━━━━━━━━━━━━━\u001b[0m \u001b[32m17.6/17.6 MB\u001b[0m \u001b[31m30.5 MB/s\u001b[0m eta \u001b[36m0:00:00\u001b[0m\n",
            "\u001b[?25hInstalling collected packages: faiss-cpu\n",
            "Successfully installed faiss-cpu-1.7.4\n",
            "Collecting tiktoken\n",
            "  Downloading tiktoken-0.5.2-cp310-cp310-manylinux_2_17_x86_64.manylinux2014_x86_64.whl (2.0 MB)\n",
            "\u001b[2K     \u001b[90m━━━━━━━━━━━━━━━━━━━━━━━━━━━━━━━━━━━━━━━━\u001b[0m \u001b[32m2.0/2.0 MB\u001b[0m \u001b[31m7.4 MB/s\u001b[0m eta \u001b[36m0:00:00\u001b[0m\n",
            "\u001b[?25hRequirement already satisfied: regex>=2022.1.18 in /usr/local/lib/python3.10/dist-packages (from tiktoken) (2023.12.25)\n",
            "Requirement already satisfied: requests>=2.26.0 in /usr/local/lib/python3.10/dist-packages (from tiktoken) (2.31.0)\n",
            "Requirement already satisfied: charset-normalizer<4,>=2 in /usr/local/lib/python3.10/dist-packages (from requests>=2.26.0->tiktoken) (3.3.2)\n",
            "Requirement already satisfied: idna<4,>=2.5 in /usr/local/lib/python3.10/dist-packages (from requests>=2.26.0->tiktoken) (3.6)\n",
            "Requirement already satisfied: urllib3<3,>=1.21.1 in /usr/local/lib/python3.10/dist-packages (from requests>=2.26.0->tiktoken) (2.0.7)\n",
            "Requirement already satisfied: certifi>=2017.4.17 in /usr/local/lib/python3.10/dist-packages (from requests>=2.26.0->tiktoken) (2023.11.17)\n",
            "Installing collected packages: tiktoken\n",
            "\u001b[31mERROR: pip's dependency resolver does not currently take into account all the packages that are installed. This behaviour is the source of the following dependency conflicts.\n",
            "llmx 0.0.15a0 requires cohere, which is not installed.\u001b[0m\u001b[31m\n",
            "\u001b[0mSuccessfully installed tiktoken-0.5.2\n"
          ]
        }
      ],
      "source": [
        "!pip install langchain\n",
        "!pip install openai\n",
        "!pip install PyPDF2\n",
        "!pip install faiss-cpu\n",
        "!pip install tiktoken"
      ]
    },
    {
      "cell_type": "code",
      "source": [
        "from PyPDF2 import PdfReader\n",
        "from langchain.embeddings.openai import OpenAIEmbeddings\n",
        "from langchain.text_splitter import CharacterTextSplitter\n",
        "from langchain.vectorstores import FAISS"
      ],
      "metadata": {
        "id": "6IbOPa96aavA"
      },
      "execution_count": 3,
      "outputs": []
    },
    {
      "cell_type": "code",
      "source": [
        "import os\n",
        "from constants import openai_key\n",
        "os.environ[\"OPENAI_API_KEY\"]=openai_key\n"
      ],
      "metadata": {
        "id": "apXvvVIGc4EU"
      },
      "execution_count": 5,
      "outputs": []
    },
    {
      "cell_type": "code",
      "source": [
        "pdfreader=PdfReader(\"budget_speech.pdf\")"
      ],
      "metadata": {
        "id": "baqgqoE7dlik"
      },
      "execution_count": 8,
      "outputs": []
    },
    {
      "cell_type": "code",
      "source": [
        "from typing_extensions import Concatenate\n",
        "\n",
        "raw_text=\"\"\n",
        "for i , page in enumerate(pdfreader.pages):\n",
        "  content=page.extract_text()\n",
        "\n",
        "  if content:\n",
        "    raw_text+=content"
      ],
      "metadata": {
        "id": "WcNiZA6-eRin"
      },
      "execution_count": 9,
      "outputs": []
    },
    {
      "cell_type": "code",
      "source": [
        "raw_text"
      ],
      "metadata": {
        "colab": {
          "base_uri": "https://localhost:8080/",
          "height": 1000
        },
        "id": "1g4dwnoTe7Uq",
        "outputId": "eab29896-4297-44f6-f2b8-e074c3aeeb20"
      },
      "execution_count": 10,
      "outputs": [
        {
          "output_type": "execute_result",
          "data": {
            "text/plain": [
              "\"GOVERNMENT OF INDIA\\nINTERIM BUDGET 2024-2025\\nSPEECH\\nOF\\nNIRMALA SITHARAMAN\\nMINISTER OF FINANCE\\nFebruary 1,  2024 \\nCONTENTS  \\n \\nPART – A \\n Page No.  \\nIntroduction  1 \\nInclusive Development and Growth  2 \\nSocial Justice   3  \\nExemplary  Track Record of Governance,  \\nDevelopment and Performance (GDP)  7 \\nEconomic Management  8 \\nGlobal Context  9 \\nVision for ‘Viksit Bharat’  10 \\nStrategy for  ‘Amrit Kaal’  11 \\nInfrastructure Development  17 \\nAmrit Kaal as Kartavya Kaal  22 \\nRevised Estimates 2023 -24 23 \\nBudget Estimates 2024 -25 23 \\nPART – B \\nDirect taxes  25 \\nIndirect Taxes   26 \\nEconomy – Then and Now  28 \\n  \\n  1 \\n Interim Budget 2024 -2025  \\nSpeech of  \\nNirmala Sitharaman  \\nMinister of Finance  \\nFebruary 1, 2024  \\nHon’ble Speaker,  \\n I present the Interim Budget for 2024 -25.  \\nIntroduction  \\n1. The Indian  economy  has witnessed profound positive \\ntransformation in the last ten years. The people of India are \\nlooking ahead to the future with hope and optimism.  \\n2. With the blessings of the people, when our Government \\nunder the visionary and dynamic leadership of Hon’ble Prime \\nMinister Shri Narendra Modi assumed office in 2014, the country \\nwas facing enormous challenges. With ‘Sabka Saath, Sabka \\nVikas’  as its ‘mantra’ , the Government overcame those \\nchallenges in right earnest. Structural reforms were undertaken. \\nPro-people programmes were formulated and implemented \\npromptly. Conditions were cr eated for more opportunities for \\nemployment and entrepreneurship. The economy got a new \\nvigour. The fruits of development started reaching the people at \\nscale. The country got a new sense of purpose and hope. \\nNaturally, the people blessed the Government wi th a bigger \\nmandate.  2 \\n 3. In the second term, our Government under the leadership \\nof Hon’ble Prime Minister doubled down on its responsibilities to \\nbuild a prosperous country with comprehensive development of \\nall people and all regions. Our Government strengthened its \\n‘mantra’  to ‘Sabka Saath, Sabka Vikas, and Sabka Vishwas’. Our \\ndevelopment philosophy covered all elements of inclusivity, \\nnamely,  \\n\\uf0b7 social inclusivity through coverage of all strata of the \\nsociety, and  \\n\\uf0b7 geographical  inclusivity through development of all \\nregions of the country.   \\n4. With the ‘whole of nation’ approach of ‘Sabka Prayas’, t he \\ncountry overcame the challenge of a once -in-a-century \\npandemic, took long strides towards ‘Atmanirbhar Bharat’, \\ncommitted to ‘Panch  Pran’ , and laid solid foundations for the  \\n‘Amrit Kaal’. As a result, our young country has high aspiration s, \\npride in its present, and hope and confidence for a bright future. \\nWe expect that our Government , based on  its stupendous work , \\nwill be blessed ag ain by the people with a resounding mandate.  \\nInclusive Development and Growth  \\n5. Our humane and inclusive approach to development is a \\nmarked and deliberate departure from the earlier approach of \\n‘provisioning up -to-village level’. Development programmes , in \\nthe last ten years, have targeted each and every household and \\nindividual, through ‘housing for all’, ‘har ghar jal’ , electricity for 3 \\n all, cooking gas for all, bank accounts and financial services for \\nall, in record time.  \\n6. The worries about food have been eliminated through free \\nration for 80 crore people. Minimum support prices for the \\nproduce of ‘Annadata’    are periodically increased appropriately. \\nThese and the provision of basic necessities have enhanced real \\nincome in the rural areas. Their econo mic needs could be \\naddressed, thus spurring growth and generating jobs.   \\nSocial Justice   \\n7. Our Government  is working with an approach to \\ndevelopment that is  all-round, all -pervasive and all -inclusive \\n(सर्वांगीण , सर्वस्पर्शी  और सर्वसमवर्ेर्शी ). It covers all castes and \\npeople at all levels. We are working to make India a ‘Viksit \\nBharat’ by 2047. For achieving that goal, we need to improve \\npeople’s capability and empower them.  \\n8. Previously, social justice was mostly a political slogan. For \\nour Gov ernment, social justice is an effective and necessary \\ngovernance model. The saturation approach of covering all \\neligible people is the true and comprehensive achievement of \\nsocial justice. This is secularism in action, reduces corruption, \\nand prevents nepo tism (भवई-भतीजवर्वद ). There is transparency \\nand assurance that benefits are delivered to all eligible people.  \\nThe resources are distributed fairly . All, regardless of their social \\nstanding, get access to opportunities. We are addressing \\nsystemic inequaliti es that had plagued our society. We focus on 4 \\n outcomes and not on outlays so that the socio -economic \\ntransformation is achieved.   \\n9. As our Prime Minister firmly believes , we need to focus on \\nfour major castes. They are, ‘Garib’ (Poor) , ‘Mahilayen’ \\n(Women),  ‘Yuva’  (Youth) and   ‘Annadata’ (Farmer). Their needs, \\ntheir aspirations, and their welfare are our highest priority. The \\ncountry progresses, when they progress. All four require and \\nreceive government support in their quest to better their lives. \\nTheir empo werment and well -being will drive the country \\nforward.  \\nGarib Kalyan, Desh ka Kalyan  \\n10. We believe in empowering the poor. The earlier approach \\nof tackling poverty through entitlements had resulted in very \\nmodest outcomes. When the poor become empowered partners \\nin the development process, government’s power to assist them \\nalso increases mani fold. With the pursuit of ‘Sabka ka Saath’  in \\nthese 10 years , the Government has assisted 25 crore people to \\nget freedom from multi -dimensional poverty. Our Government’s \\nefforts are now getting synergized with energy and passion of \\nsuch empowered people. T his is truly elevating them from \\npoverty.   \\n11. ‘Direct Benefit Transfer’ of ` 34 lakh crore from the \\nGovernment using PM -Jan Dhan accounts has led to savings of  \\n` 2.7 lakh crore  for the Government . This has been realized 5 \\n through avoidance of leakages prevale nt earlier. The savings \\nhave helped in providing more funds for ‘Garib Kalyan’.  \\n12. PM-SVANidhi has provide d credit assistance to 78 lakh \\nstreet vendors.  From that total, 2.3 lakh have received credit for \\nthe third time.  \\n13. PM-JANMAN Yojana reaches out to the particularly \\nvulnerable tribal groups, who have remained outside  the realm \\nof development so far. PM -Vishwakarma Yojana provides end -to-\\nend support to artisans and craftspeople engaged in 18 trades. \\nThe schemes for empowerment of Divyangs and Transgender \\nperson s reflect firm resolve of our  Government to leave no one \\nbehind.  \\nWelfare of Annadata  \\n14. Farmers are our ‘Annadata’ . Every year, under PM -KISAN \\nSAMMAN Yojana, direct financial assistance is provided to  \\n11.8 crore farmers, including marginal and small farmers.  Crop \\ninsurance is given to  4 crore farmers under PM Fasal Bima \\nYojana. These, besides several other programmes, are assisting \\n‘Annadata’  in producing food for the country and the world.  \\n15. Electroni c National Agriculture Market has integrated  \\n1361 mandis, and is providing services to 1.8 crore farmers with \\ntrading volume of ` 3 lakh crore.  \\n16. The sector is poised for inclusive, balanced, higher growth \\nand productivity. These are facilitated from farme r-centric \\npolicies, income support, coverage of risks through price and 6 \\n insurance support, promotion of technologies and innovations \\nthrough start -ups.  \\nEmpowering  Amrit Peed hi, the Yuva  \\n17. Our prosperity depends on adequately equipping and \\nempowering the youth. The National Education Policy 2020 is \\nushering in transformational reforms. PM ScHools for Rising India \\n(PM SHRI) are delivering quality teaching, and nurturing holistic \\nand well -roun ded individuals.  \\n18. The Skill India Mission has trained 1.4 crore youth, \\nupskilled and reskilled 54 lakh youth, and established 3000 new \\nITIs. A large number of new institutions of higher learning, \\nnamely 7 IITs, 16 IIITs, 7 IIMs, 15 AIIMS and 390 universiti es have \\nbeen set up.   \\n19. PM Mudra Yojana has sanctioned 43 crore loans \\naggregating to ` 22.5 lakh crore for entrepreneurial aspirations \\nof our youth. Besides that, Fund of Funds, Start Up India, and \\nStart Up Credit Guarantee schemes are assisting our youth. They \\nare also becoming ‘rozgardata’.  \\n20. The country is proud of our youth scaling new heights in \\nsports. The highest ever medal tally in Asian Games and Asian \\nPara Games in 2023 reflects a high confidence level. Chess \\nprodigy and our Number -One ranked player  Praggnanandhaa put \\nup a stiff fight against the reigning World Champion Magnus \\nCarlsson in 2023. Today, India has over 80 chess grandmasters \\ncompared to little over 20 in 2010.  7 \\n Momentum for Nari Shakti  \\n21. The empowerment of women through entrepreneurship, \\nease of living, and dignity for them has gained momentum in \\nthese ten years.  \\n22. Thirty crore Mudra Yojana loans have been given to \\nwomen entrepreneurs. Female enrolment in higher education \\nhas gone up by twenty -eight per cent in ten years. In STEM \\ncourses, gir ls and women constitute forty -three per cent of \\nenrolment - one of the highest in the world. All these measures \\nare getting reflected in the increasing participation of women in \\nworkforce . \\n23. Making ‘Triple Talaq’ illegal, reservation of one -third seats \\nfor w omen in the Lok Sabha and State legislative assemblies, and \\ngiving over seventy per cent houses under PM Awas Yojana in \\nrural areas to women as sole or joint owners have enhanced \\ntheir dignity.  \\nExemplary  Track Record of Governance, Development and \\nPerformance (GDP)  \\n24. Besides delivering on high growth in terms of Gross \\nDomestic Product, the Government is equally focused on a more \\ncomprehensive ‘GDP’ , i.e ., ’Governance, Development and \\nPerformance’ .   \\n25. Our G overnment has provided transparent, accountable, \\npeople -centric and prompt trust -based administration with 8 \\n ‘citizen -first’ and ‘minimum government, maximum governance’ \\napproach.  \\n26. The impact of all -round development is discernible in all \\nsectors. There is mac ro-economic stability, including in the \\nexternal sector. Investments are robust. The economy is doing \\nwell.  \\n27. People are living better and earning better, with even \\ngreater aspirations for the future. Average real income of the \\npeople has increased by fifty  per cent. Inflation is moderate. \\nPeople are getting empowered, equipped and enabled to pursue \\ntheir aspirations. There is effective and timely delivery of \\nprogrammes and of large projects.  \\nEconomic Management  \\n28. The multipronged economic management over the  past \\nten years has complemented people -centric inclusive \\ndevelopment. Following are some of the major elements.   \\n(1) All forms of infrastructure , physical, digital or social, \\nare being built in record time.   \\n(2) All parts of the country are becoming active \\nparticipants in economic  growth.  \\n(3) Digital Public Infrastructure, a new ‘factor of \\nproduction ’ in the 21st century, is instrumental in \\nformalization of the economy.      9 \\n (4) Goods and Services Tax has enabled ‘One Nation, \\nOne Market, One Tax’ . Tax reforms have led to \\ndeepening  and widening of tax base.  \\n(5) Strengthening of the financial sector has helped in \\nmaking savings, credit and investments more \\nefficient.   \\n(6) GIFT IFSC and the unified regulatory authority, IFSCA \\nare creating a robust gateway for global capital and \\nfinancial services for the economy.  \\n(7) Proactive inflation management has helped keep  \\ninflation within  the policy band.   \\nGlobal Context  \\n29. Geopolitically , global affairs are becoming more complex \\nand challenging with wars and conflicts. Globalization is being \\nredefined with reshoring and friend -shoring, disruption and \\nfragmentation of supply chains, and competition for critical \\nminerals and technologies. A  new world order is emerging after \\nthe Covid pandemic.  \\n30. India assumed G20  Presidency during very difficult times \\nfor the world. The global economy was going through high \\ninflation, high interest rates, low growth, very high public debt, \\nlow trade growth, and climate challenges. The pandemic had led \\nto a crisis of food, fertiliz er, fuel and finances for the world, while \\nIndia successfully  navigated its way. The country showed the way 10 \\n forward and built consensus on solutions for those global \\nproblems.  \\n31. The recently announced India -Middle East -Europe \\nEconomic Corridor is a strategi c and economic game changer for \\nIndia and others. In the words of Hon’ble Prime Minister, the \\ncorridor “will become the basis of world trade for hundreds of \\nyears to come, and history will remember that this corridor was \\ninitiated on Indian soil” .   \\nVision  for ‘Viksit Bharat’  \\n32. Our vision for ‘Viksit Bharat’ is that of “Prosperous Bharat \\nin harmony with nature, with modern infrastructure, and \\nproviding opportunities for all citizens and all regions to reach \\ntheir potential”.  \\n33. With confidence arising from stron g and exemplary track -\\nrecord of performance and progress earning ‘Sabka Vishwas’ , the \\nnext five years will be years of unprecedented development, and \\ngolden moments to realize the dream of developed India  @ \\n2047. The trinity of demography, democracy and di versity \\nbacked by ‘Sabka Prayas’ has the potential to fulfill aspirations of \\nevery Indian.  \\n34. As Hon’ble Prime Minister in his Independence Day \\naddress to the nation mentioned, “There is no dearth of \\nopportunities; as many opportunities as we want. The count ry is \\ncapable of creating more opportunities. Sky's the limit” . \\n 11 \\n Strategy for ‘Amrit Kaal’  \\n35. Our Government will adopt  economic policies that foster \\nand sustain growth, facilitate inclusive and sustainable \\ndevelopment, improve productivity, create opportunities for all, \\nhelp them enhance their capabilities, and contribute to \\ngeneration of resources to power investments an d fulfil \\naspirations.   \\n36. Guided by the principle ‘Reform , Perform, and Transform’, \\nthe Government will take up next generation reforms, and build \\nconsensus with the states and stakeholders for effective \\nimplementation.   \\n37. It is an important policy priority for our Government to \\nensure timely and adequate finances, relevant technologies and \\nappropriate training for the Micro, Small and Medium \\nEnterprises (MSME) to grow and also compete globally. Orienting \\nthe regulatory envi ronment to facilitate their growth will be an \\nimportant element of this policy mix.  \\n38. Aligning with the ‘Panchamrit’  goals, our Government will \\nfacilitate sustaining high and more resource -efficient economic \\ngrowth. This will work towards energy  security in terms of \\navailability, accessibility and affordability.   \\n39. For me eting the investment needs our G overnment will \\nprepare the financial sector in terms of size, capacity, skills and \\nregulatory framework.  \\n 12 \\n Aspirational Districts Programme  \\n40. Our Government stands ready to assist the states in faster \\ndevelopment of aspirational districts  and blocks , including \\ngeneration of ample economic opportunities.  \\nDevelopment of the East   \\n41. Our G overnment will pay utmost attention to make the \\neastern region and its people  a powerful driver of India’s growth .  \\nPM Awas Yojana (Grameen)  \\n42. Despite the challenges due to COVID, implementation of \\nPM Awas Yojana (Grameen) continued  and we are close to \\nachieving the target of three  crore houses. Two  crore more \\nhouses wi ll be taken up in the next five years to meet the \\nrequirement arising from increase in the number of families.   \\nRooftop solarization and muft bijli  \\n43.   Through rooftop solarization, one crore households will \\nbe enabled to obtain up to 300 units free electri city every month. \\nThis scheme follows the resolve of Hon’ble Prime Minister on the \\nhistoric day of consecration of Ram Mandir in Ayodhya.  \\nFollowing benefits are expected.  \\na. Savings up to fifteen to eighteen thousand rupees \\nannually for households from free solar electricity and \\nselling the surplus to the distribution companies;  \\nb. Charging of electric vehicles;  13 \\n c. Entrepreneurship opportunities for a large number of \\nvendors for supply and installation;  \\nd. Employment opportunities for the youth with technical \\nskills i n manufacturing, installation and maintenance;  \\nHousing for middle class  \\n44. Our Government will launch a scheme to help deserving \\nsections of the middle class “living in rented houses, or slums, or \\nchawls and unauthorized colonies” to buy or build their own \\nhouses.   \\nMedical Colleges  \\n45. Several youth are ambitious to get qualified as doctors. \\nThey aim to serve our people through improved healthcare \\nservices. Our Government plans to set up more medical colleges \\nby utilizing the existing hospital infrastructure under various \\ndepartments. A committee for this purpose will be set -up to \\nexamine the issues and make relevant recommendations .  \\nCervical Cancer Vaccination  \\n46. Our Government will encourage vaccination for girls in age \\ngroup of 9 to 14 years for prevention of cervical cancer.     \\nMaterna l and child health care  \\n47. Various schemes for maternal and child care will be \\nbrought under one comprehensive programme for synergy in \\nimplementation. Upgradation of anganwadi centres under \\n“Saksham Anganwadi and Poshan 2.0” will be expedited for 14 \\n improved nu trition delivery, early childhood care and \\ndevelopment.    \\n48. The newly designed U -WIN platform for managing \\nimmunization and intensified efforts of Mission Indradhanush \\nwill be rolled out expeditiously throughout the country.  \\nAyushman Bharat  \\n49. Healthcare cove r under Ayushman Bharat scheme will be \\nextended to all ASHA workers, Anganwadi Workers and Helpers.  \\nAgriculture and food processing  \\n50. The efforts for value addition in agricultural sector and \\nboosting farmers’ income will be stepped up. Pradhan Mantri \\nKisan  Sampada Yojana has benefitted 38 lakh farmers and \\ngenerated 10 lakh employment. Pradhan Mantri Formalisation of \\nMicro Food Processing Enterprises Yojana has assisted 2.4 lakh \\nSHGs and sixty thousand individuals with credit linkages. Other \\nschemes are comp lementing the efforts for reducing post -\\nharvest losses, and improving productivity and incomes.  \\n51. For ensuring faster growth of the sector, our Government \\nwill further promote p rivate and public investment in  \\npost -harvest activities including aggregation, modern storage, \\nefficient supply chains, primary and secondary processing and \\nmarketing and branding.  \\n \\n 15 \\n Nano DAP  \\n52. After the successful adoption of Nano Urea, application of \\nNano DAP on various crops will be expanded in all agro -climatic \\nzones.   \\nAtmanirbhar  Oil Seeds Abhiyan  \\n53. Building on the initiative announced in 2022, a strategy \\nwill be formulated to achieve ‘atmanirbharta’  for oil seeds such \\nas mustard, groundnut, sesame, soybean, and sunflower. This \\nwill cover research for high -yielding varieties, widesp read \\nadoption of modern farming techniques, market linkages, \\nprocurement, value addition, and crop insurance.      \\nDairy Development  \\n54. A comprehensive programme for  supporting dairy farmers \\nwill be formulated. Efforts are already on to control foot and \\nmouth  disease. India is the world’s largest milk producer but \\nwith low productivity of milch -animals. The programme will be \\nbuilt on the success of existing schemes such Rashtriya Gokul \\nMission, National Livestock Mission, and Infrastructure \\nDevelopment Funds f or dairy processing and animal husbandry.   \\nMatsya Sampada  \\n55. It was our Government which set up a separate \\nDepartment for Fisheries realizing the importance of assisting \\nfishermen. This has resulted in doubling of both inland and \\naquaculture production. Seaf ood export since 2013 -14 has also 16 \\n doubled.  Implementation of Pradhan Mantri Matsya Sampada \\nYojana (PMMSY) will be stepped up to:  \\n(1) enhance aquaculture productivity from existing 3 to  \\n5 tons per hectare,  \\n(2) double exports to ` 1 lakh crore and  \\n(3) generate  55 lakh employment opportunities in near \\nfuture.  \\nFive integrated aquaparks will be setup.  \\nLakhpati Didi  \\n56. Eighty -three lakh SHGs  with nine crore women are \\ntransforming rural socio -economic landscape with \\nempowerment and self -reliance. Their success has as sisted \\nnearly one crore women to become Lakhpati Didi already. They \\nare an inspiration to others. Their achievements will be \\nrecognized through honouring them. Buoyed by the success, it \\nhas been decided to enhance the target for Lakhpati Didi from  \\n2 crore to 3 crore.  \\nTechnological Changes  \\n57. New age technologies  and data  are changing the lives of \\npeople and businesses. The y are also enabling new economic \\nopportunities and facilitating provision of high -quality services at \\naffordable prices for all, inc luding those at ‘bottom of the \\npyramid’. Opportunities for India at the global level are 17 \\n expanding. India is showing solutions through innovation and \\nentrepreneurship of its people.  \\nResearch and Innovation for catalyzing growth, employment \\nand development  \\n58. Prime Minister Shastri gave the slogan of “Jai Jawan Jai \\nKisan”. Prime Minister Vajpayee made that “Jai Jawan Jai Kisan \\nJai Vigyan”. Prime Minister Modi has furthered that to “Jai \\nJawan Jai Kisan Jai Vigyan and Jai Anusandhan” , as innovation is \\nthe founda tion of development.  \\n59. For our tech savvy youth, this will be a golden era.  \\nA corpus of rupees  one lakh crore will be established with  \\nfifty-year interest free loan . The corpus will provide long -term \\nfinancing or refinancing with long tenors and low or nil interest \\nrates. This will encourage the private sector  to scale up research \\nand innovation significantly in sunrise domains. We need to have \\nprogrammes that combin e the powers of our youth and \\ntechnology.  \\n60. A new scheme will be launched for strengthening  \\ndeep -tech technologies for defence purposes and expediting \\n‘atmanirbharta’ .    \\nInfrastructure Development  \\n61. Building on the massive tripling of the capital expenditure  \\noutlay in the past 4 years resulting in huge multiplier impact on \\neconomic growth and employment creation, the outlay for the \\nnext year is being increased by 11.1 per cent to eleven lakh, 18 \\n eleven thousand, one hundred and eleven crore rupees  \\n(` 11,11,111 crore). This would be 3.4 per cent of the GDP.  \\nRailways  \\n62. Three major economic railway corridor programmes will \\nbe implemented. These are : \\n(1) energy, mineral and cement corridors,  \\n(2) port connectivity corridors, and  \\n(3) high traffic density corridors.  \\nThe projects have been identified under the PM Gati Shakti for \\nenabling multi -modal connectivity. They will improve logistics \\nefficiency and reduce cost.  \\n63.   The resultant decongestion of the high -traffic corridors \\nwill also help in improving operations of passenger trains, \\nresulting in safety and higher travel speed for passengers. \\nTogether with dedicated freight corridors, these three economic \\ncorridor programmes will accelerate our GDP growth and reduce \\nlogistic costs.   \\n64. Forty thousand normal rail bogies will be converted to the \\nVande Bharat standards to enhance safety , convenience and \\ncomfort  of passengers.   \\nAviation Sector  \\n65. The aviation sector has been galvanized in the past  \\nten years. Number of airports have  doubled to 149. Roll out of \\nair connectivity to tier -two and tier -three cities under UDAN 19 \\n scheme has been widespread.  Five hundred and seventeen new \\nroutes are carrying 1.3 crore passengers. Indian carriers have  \\npro-actively plac ed orders for over 1000 n ew aircrafts. Expansion \\nof existing airports and development of new airports will \\ncontinue expeditiously.  \\nMetro and NaMo Bharat  \\n66. We have a fast -expanding middle class and rapid \\nurbanization is taking place.  Metro Rail and NaMo Bharat can be \\nthe catalyst f or the required urban transformation. Expansion of \\nthese systems will be supported in large cities focusing on \\ntransit -oriented development.  \\nGreen Energy  \\n67. Towards meeting our commitment for ‘net -zero’ by 2070, \\nthe following measures will be taken.  \\na. Viabilit y gap funding will be provided for harnessing \\noffshore wind energy potential for initial capacity of \\none giga -watt.  \\nb. Coal gasification and liquefaction capacity of 100 MT \\nwill be set up by 2030. This will also help in reducing \\nimports of natural gas, methanol, and ammonia.   \\nc. Phased mandatory blending of compressed biogas  \\n(CBG)  in compressed natural gas (CNG) for transport \\nand piped natural gas  (PNG)  for domestic purposes will \\nbe mandated.  20 \\n d. Financial  assistance will be provided for procurement \\nof biomass aggregation machinery to support \\ncollection . \\nElectric Vehicle Eco system  \\n68. Our Government will expand and strengthen the e -vehicle \\necosystem  by supporting manufacturing and charging \\ninfrastructure. Greater adoption of e -buses for public transport \\nnetworks will be encouraged through payment security \\nmechanism.  \\nBio-manufacturing and Bio -foundry  \\n69. For promotin g green growth, a new scheme of  \\nbio-manufacturing and bio -foundry will be launched. This will \\nprovide environment friendly alternatives such as biodegradable \\npolymers, bio -plastics, bio -pharmaceuticals and bio -agri-inputs.  \\nThis scheme will also help in transforming today’s consumptive \\nmanufacturing paradigm to the one based on regenerative \\nprinciples.  \\nBlue Economy 2.0  \\n70. For promoting climate resilient activities for blue economy \\n2.0, a scheme for restoration and adaptation measures, and \\ncoastal aquaculture and mariculture with integrated a nd  \\nmulti -sectoral approach will be launched.  \\n \\n 21 \\n Comprehensive development of tourist centres  \\n71. The success of organizing G20 meetings in sixty places \\npresented diversity of India to global audience. Our economic \\nstrength has made the country an attractive de stination for \\nbusiness and conference tourism. Our middle class also now \\naspires to travel and explore. Tourism, including spiritual \\ntourism, ha s tremendous opportunities for local \\nentrepreneurship . \\n72. States will be encouraged to take up comprehensive \\ndevelopment of iconic tourist centres, branding and marketing \\nthem at global scale. A framework for rating of the centres based \\non quality of facilities and services will be established. Long -term \\ninterest free loans will be provided to States for financin g such \\ndevelopment on matching basis.  \\n73. To address the emerging fervour for domestic tourism, \\nprojects for port connectivity, tourism infrastructure, and \\namenities will be taken up on our islands, including \\nLakshadweep. This will help in generating employmen t also.  \\nPromoting Investments  \\n74. The FDI inflow during 2014 -23 was USD 596 billion marking \\na golden era .  That is twice the inflow during 2005 -14.   \\nFor encouraging sustained foreign investment, we are \\nnegotiating bilateral investment treaties with our foreig n \\npartners, in the spirit of ‘first develop India’.  \\n 22 \\n Reforms in the States for ‘ Viksit Bharat’  \\n75. Many growth and development enabling reforms are \\nneeded in the states for realizing the vision of ‘Viksit Bharat’.  \\nA provision of seventy -five thousand crore rupees as fifty-year \\ninterest free loan is proposed this year to support those \\nmilestone -linked reforms by the State Governments.    \\nSocietal Changes  \\n76. The Government will form a high -powered committee for \\nan extensive consideration of the challenges arising from fast \\npopulation growth and demographic changes.  The committee \\nwill be mandated to make recommendations for addressing \\nthese challenges comprehensively in relation to the goal of \\n‘Viksit Bharat’.  \\nAmrit Kaal as Kartavya Kaal  \\n77. Our G overnment stands committed to strengthening and \\nexpanding the economy with high growth and to create \\nconditions for people to realize their aspirations.  Hon’ble Prime \\nMinister in his Independence Day address to the nation, in the \\n75th year of our Republic  said; we “commit ourselves to national \\ndevelopment, with new inspirations, new consciousness, new \\nresolutions, as the country opens up immense possibilities and \\nopportunities” . It is our ‘Kartavya Kaal’.  \\n78. Every challenge of the pre-2014  era was overcome \\nthrough our economic management and our governance. These \\nhave placed the country on a resolute path of sustained high 23 \\n growth.  This has been possible through our right policies, true \\nintentions, and appropriate decisions. In the full budget in July, \\nour Government will present a detailed roadmap for our pursuit \\nof ‘Viksit Bharat’ .  \\nRevised Estimates 2023 -24 \\n79. The Revised Estimate of the total receipts other than \\nborrowings is ` 27.56  lakh crore, of which the tax receipts are  \\n` 23.24  lakh crore. The Revised Estimate of the total expenditure \\nis ` 44.90  lakh crore.      \\n80. The revenue receipts at ` 30.03  lakh crore are expected to \\nbe higher than the Budget Estimate, reflecting strong growth \\nmomentum and formalization in the economy.  \\n81. The R evised Estimate of the fiscal deficit is 5.8 per cent of \\nGDP, improving on the Budget Estimate, notwithstanding \\nmoderation in the nominal growth estimates.        \\nBudget Estimates 2024 -25 \\n82. Coming to 2024 -25, the total receipts other than \\nborrowings and the total expenditure are estimated at ` 30.80  \\nand 47.66  lakh crore respectively. The tax receipts are estimated \\nat ` 26.02  lakh crore.     \\n83. The scheme of fifty-year interest free loan for capital \\nexpenditure to states will be continued this year with total out lay \\nof  ` 1.3 lakh crore.   24 \\n 84. We continue on the path of fiscal consolidation, as \\nannounced in my Budget Speech for 2021 -22, to reduce fiscal \\ndeficit below 4.5 per cent by 2025 -26. The fiscal deficit in  \\n2024 -25 is estimated to be 5.1 per cent of GDP, adhering to that \\npath.  \\n85.  The gross and net market borrowings through  dated \\nsecurities during 2024 -25 are estimated at ` 14.13  and  \\n11.75  lakh crore respectively. Both will be less than that in  \\n2023 -24. Now that the private investments ar e happening at \\nscale, the lower borrowings by the Central Government will \\nfacilitate larger availability of credit for the private sector.   \\nVote on Account  \\n86. I will be seeking ‘vote on account’ approval of the \\nParliament through the Appropriation Bill for a part of the \\nfinancial year  2024 -25.    \\nI will, now, move to Part B.  \\n  25 \\n Part B  \\nHon’ble Speaker Sir,  \\nDirect taxes  \\n87. Over the last ten years, the direct tax collections have \\nmore than trebled and the return filers swelled to 2.4 times.  \\nI would like to assure the taxpayers that their contributions have \\nbeen used wisely for the development of the country and \\nwelfare of its people. I appreciate the tax payers for their \\nsupport.  \\n88. The Government has reduced and rationalized tax rates. \\nUnder the new tax scheme, there  is now no tax liability for tax \\npayers with income up to ₹ 7 lakh, up from ₹ 2.2 lakh in the \\nfinancial year 2013 -14. The threshold for presumptive taxation \\nfor retail businesses was increased from ₹ 2 crore to ₹ 3 crore. \\nSimilarly, the threshold for professionals eligible for presumptive \\ntaxation was increased from ₹ 50 lakh to  ₹ 75 Lakh.  Also, \\ncorporate tax rate was decreased from 30 per cent to 22 per cent \\nfor existing domestic companies and to 15 per cent for certain \\nnew manufacturing companies.  \\n89. In the last five years, our focus has been to improve  \\ntax-payer services. The age -old jurisdiction -based assessment \\nsystem was transformed with the introduction of Faceless \\nAssessment and Appeal, thereby imparting greater efficiency, \\ntransparency and accoun tability. Introduction of updated income \\ntax returns, a new Form 26AS and prefilling of tax returns have 26 \\n made filing of tax returns simpler and easier. Average processing \\ntime of returns has been reduced from 93 days in the year  \\n2013 -14 to a mere ten days  this year, thereby making refunds \\nfaster.  \\nIndirect Taxes   \\n90. By unifying the highly fragmented indirect tax regime in \\nIndia, GST has reduced the compliance burden on trade and \\nindustry. The industry has acknowledged the benefits of GST. \\nAccording to a recen t survey conducted by a leading consulting \\nfirm, 94  per cent  of industry leaders view the transition to GST as \\nlargely positive. According to 80  per cent  of the respondents, it \\nhas led to supply chain optimisation, as elimination of tax \\narbitrage and octro i has resulted in disbanding of check posts at \\nstate and city boundaries. At the same time, tax base of GST \\nmore than doubled and the average monthly gross GST \\ncollection has almost doubled to ₹ 1.66 lakh crore, this year.  \\nStates too have benefited. States ’ SGST revenue, including \\ncompensation released to states, in the post -GST period of  \\n2017 -18 to 2022 -23, has achieved a buoyancy of 1.22. In \\ncontrast, the tax buoyancy of State revenues from subsumed \\ntaxes in the pre -GST four -year period of 2012 -13 to 201 5-16 was \\na mere 0.72. The biggest beneficiaries are the consumers, as \\nreduction in logistics costs and taxes have brought down prices \\nof most goods and services.  27 \\n 91. We have taken a number of steps in Customs to facilitate \\ninternational trade. As a result, the  import release time declined \\nby 47  per cent to 71 hours at Inland Container Depots, by 28  per \\ncent  to 44 hours at air cargo complexes and by 27  per cent  to  \\n85 hours at sea ports, over the last four years since 2019, when \\nthe National Time Release Studies  were first started.  \\nTax proposals  \\n92. As for tax proposals, in keeping with the convention, I do \\nnot propose to make any changes relating to taxation and \\npropose to retain the same tax rates for direct taxes and indirect \\ntaxes including import duties. However , certain tax benefits to \\nstart -ups and investments made by sovereign wealth or pension \\nfunds as also tax exemption on certain income of some IFSC units \\nare expiring on 31.03.2024. To provide continuity in taxation,  \\nI propose to extend the date to 31.03.2 025.  \\n93. Moreover, in line with  our Government’s vision to improve \\nease of living and ease of doing business, I wish to make an \\nannouncement to improve tax payer services. There are a large \\nnumber of petty, non -verified, non -reconciled or disputed direct \\ntax d emands, many of them dating as far back as the year 1962, \\nwhich continue to remain on the books, causing anxiety to \\nhonest tax payers and hindering refunds of subsequent years.  \\nI propose to withdraw such outstanding direct tax demands up \\nto twenty -five th ousand rupees ( ₹ 25,000 ) pertaining to the \\nperiod up to financial year 2009 -10 and up to ten-thousand 28 \\n rupees ( ₹ 10,000 ) for financial years 2010 -11 to 2014 -15. This is \\nexpected to benefit about a crore tax-payers.  \\nEconomy – Then and Now  \\n94. In 2014 when our Government assumed the reins, the \\nresponsibility to mend the economy step by step and to put the \\ngovernance systems in order was enormous. The need of the \\nhour was to give hope to the people, to attract investments, and \\nto build support for the much -needed reforms. The Government \\ndid that successfully following our strong belief of ‘nation -first’.   \\n95. The crisis of those years has been overcome, and the \\neconomy has been put firmly on a high sustainable growth path \\nwith all -round development. It is now appropri ate to look at \\nwhere we were then till 2014 and where we are now, only for \\nthe purpose of drawing lessons from the mismanagement of \\nthose years. The Government will lay a White Paper on table of \\nthe House.  \\n96. The exemplary track record of governance, develop ment \\nand performance , effective delivery , and ‘Jan Kalyan ’ has given \\nthe Government trust, confidence and blessings of the people to \\nrealize, whatever it takes, the goal of ‘Viksit Bharat’ with good \\nintentions, true dedication and hard work in the coming y ears \\nand decades .   \\n97. With this, I commend the interim budget to this august \\nHouse.  \\nJai Hind.  \""
            ],
            "application/vnd.google.colaboratory.intrinsic+json": {
              "type": "string"
            }
          },
          "metadata": {},
          "execution_count": 10
        }
      ]
    },
    {
      "cell_type": "code",
      "source": [
        "# We need to split the text using Character Text Split such that it should not increase token size\n",
        "\n",
        "text_splitter=CharacterTextSplitter(separator='\\n',\n",
        "                                    chunk_size=800,\n",
        "                                    chunk_overlap=200,\n",
        "                                    length_function=len,\n",
        "                                    )\n",
        "\n",
        "texts=text_splitter.split_text(raw_text)"
      ],
      "metadata": {
        "id": "CzzpgQK0fEBY"
      },
      "execution_count": 11,
      "outputs": []
    },
    {
      "cell_type": "code",
      "source": [
        "len(texts)"
      ],
      "metadata": {
        "colab": {
          "base_uri": "https://localhost:8080/"
        },
        "id": "PsvRg7gbgnFE",
        "outputId": "9553437a-5264-4162-b865-1e5db57d0624"
      },
      "execution_count": 13,
      "outputs": [
        {
          "output_type": "execute_result",
          "data": {
            "text/plain": [
              "61"
            ]
          },
          "metadata": {},
          "execution_count": 13
        }
      ]
    },
    {
      "cell_type": "code",
      "source": [
        "# Download embedding from OpenAI\n",
        "\n",
        "embeddings=OpenAIEmbeddings()"
      ],
      "metadata": {
        "id": "MwVILtpCgpfz"
      },
      "execution_count": 14,
      "outputs": []
    },
    {
      "cell_type": "code",
      "source": [
        "document_search=FAISS.from_texts(texts,embeddings)"
      ],
      "metadata": {
        "id": "p6cQdIxOhITp"
      },
      "execution_count": 15,
      "outputs": []
    },
    {
      "cell_type": "code",
      "source": [
        "document_search"
      ],
      "metadata": {
        "colab": {
          "base_uri": "https://localhost:8080/"
        },
        "id": "MHbw6WwfhYiV",
        "outputId": "0561546c-1fce-4df0-96bc-da37a1837f1a"
      },
      "execution_count": 16,
      "outputs": [
        {
          "output_type": "execute_result",
          "data": {
            "text/plain": [
              "<langchain_community.vectorstores.faiss.FAISS at 0x7946af9a1d20>"
            ]
          },
          "metadata": {},
          "execution_count": 16
        }
      ]
    },
    {
      "cell_type": "code",
      "source": [
        "from langchain.chains.question_answering import load_qa_chain\n",
        "from langchain.llms import OpenAI"
      ],
      "metadata": {
        "id": "P1nTIHLYhYlt"
      },
      "execution_count": 17,
      "outputs": []
    },
    {
      "cell_type": "code",
      "source": [
        "chain=load_qa_chain(OpenAI(), chain_type=\"stuff\")"
      ],
      "metadata": {
        "id": "OAhV9hSUh27R"
      },
      "execution_count": 18,
      "outputs": []
    },
    {
      "cell_type": "code",
      "source": [
        "query=\"How much the agriculture target will be increased by\"\n",
        "docs=document_search.similarity_search(query)\n",
        "chain.run(input_documents=docs, question =query)"
      ],
      "metadata": {
        "colab": {
          "base_uri": "https://localhost:8080/",
          "height": 35
        },
        "id": "2Sx_fs5EiPN8",
        "outputId": "276af8cc-a66a-400a-e741-bf1d113e630b"
      },
      "execution_count": 20,
      "outputs": [
        {
          "output_type": "execute_result",
          "data": {
            "text/plain": [
              "' The agriculture target will be increased by five tons per hectare.'"
            ],
            "application/vnd.google.colaboratory.intrinsic+json": {
              "type": "string"
            }
          },
          "metadata": {},
          "execution_count": 20
        }
      ]
    }
  ]
}